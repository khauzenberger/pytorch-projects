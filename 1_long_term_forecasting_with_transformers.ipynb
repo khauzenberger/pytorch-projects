{
  "nbformat": 4,
  "nbformat_minor": 0,
  "metadata": {
    "colab": {
      "provenance": [],
      "authorship_tag": "ABX9TyPlmFEOLCRuEMVccTrVxNl+",
      "include_colab_link": true
    },
    "kernelspec": {
      "name": "python3",
      "display_name": "Python 3"
    },
    "language_info": {
      "name": "python"
    }
  },
  "cells": [
    {
      "cell_type": "markdown",
      "metadata": {
        "id": "view-in-github",
        "colab_type": "text"
      },
      "source": [
        "<a href=\"https://colab.research.google.com/github/khauzenberger/pytorch-projects/blob/main/1_long_term_forecasting_with_transformers.ipynb\" target=\"_parent\"><img src=\"https://colab.research.google.com/assets/colab-badge.svg\" alt=\"Open In Colab\"/></a>"
      ]
    },
    {
      "cell_type": "markdown",
      "source": [
        "# The project\n",
        "\n",
        "In a frist step, I'm going to be replicating the paper \"A Time Series is Worth 64 Words: Long-term Forecasting with Transformers\" by Yuqi Nie, Nam H. Nguyen, Phanwadee Sinthong and Jayant Kalagnanam (see https://arxiv.org/abs/2211.14730).\n",
        "\n",
        "In the second step, then, I apply the key designs of the paper to forecast macroeconomic time series."
      ],
      "metadata": {
        "id": "9nlO-N-HO_nL"
      }
    },
    {
      "cell_type": "markdown",
      "source": [
        "## Key designs, model overview, and key concept\n",
        "\n",
        "**Patching**: Segmentation of time series into subseries-level patches which are served as input tokens to Transformer.\n",
        "\n",
        "**Channel-independence**: Each channel contains a single univariate time series that shares the same embedding and Transformer weights across all the series.\n",
        "\n",
        "The figure below sketches the so-called **PatchTST model** and transformer backbones under supervised and self-supervised learning.\n",
        "\n",
        "![picture](https://raw.githubusercontent.com/yuqinie98/PatchTST/main/pic/model.png)\n",
        "\n",
        "**Transformer-based models**: It is a deep learning model that adopts the mechanism of self-attention, differentially weighting the significance of each part of the input data.\n",
        "\n",
        "Transformers are designed to process sequential input data, processing them all at once. The attention mechanism provides context for any position in the input sequence. \n",
        "\n",
        "Because transformers process the entire input all at once, they allow for more parallelization than recurrent neural networks (RNNs) and therefore reduce training times."
      ],
      "metadata": {
        "id": "4yl7wFdbnSbK"
      }
    },
    {
      "cell_type": "markdown",
      "source": [
        "# Replication\n",
        "\n",
        "In the following I provide step-by-step instructions to get from our inputs to the desired outputs.\n",
        "\n",
        "While the paper comes with an official implementation (https://github.com/yuqinie98/PatchTST), there's no learning in just copying and pasting them. That's why I will start more or less from scratch, going through the steps in the section on paper replication in Daniel Bourke's ZTM course \"PyTorch for deep learning\" (https://github.com/khauzenberger/pytorch-deep-learning). "
      ],
      "metadata": {
        "id": "6-7Vu2g5pNrV"
      }
    },
    {
      "cell_type": "markdown",
      "source": [
        "## Get data from the paper\n",
        "\n",
        "While the paper experiments with eight different datasets, I will focus only on the smallest one: the influenza-like illnesses (ILI) dataset. "
      ],
      "metadata": {
        "id": "VUoAGik7E4y3"
      }
    },
    {
      "cell_type": "code",
      "source": [
        "import requests\n",
        "from pathlib import Path\n",
        "\n",
        "# Setup path to data folder\n",
        "data_path = Path(\"data/\")\n",
        "\n",
        "# If the image folder doesn't exist, download it and prepare it... \n",
        "if data_path.is_dir():\n",
        "    print(f\"{data_path} directory exists.\")\n",
        "else:\n",
        "    print(f\"Did not find {data_path} directory, creating one...\")\n",
        "    data_path.mkdir(parents=True, exist_ok=True)\n",
        "    \n",
        "    # Download influenza-like illness data from my Github repo\n",
        "    with open(data_path / \"national_illness.csv\", \"wb\") as f:\n",
        "        request = requests.get(\"https://github.com/khauzenberger/pytorch-projects/raw/main/data/national_illness.csv\")      \n",
        "        print(\"Downloading influenza-like illness data from my Github repo...\")\n",
        "        f.write(request.content)"
      ],
      "metadata": {
        "colab": {
          "base_uri": "https://localhost:8080/"
        },
        "id": "9_9Ic_aqJOkn",
        "outputId": "f27c6421-853a-48d5-a0de-7954832559e7"
      },
      "execution_count": 1,
      "outputs": [
        {
          "output_type": "stream",
          "name": "stdout",
          "text": [
            "Did not find data directory, creating one...\n",
            "Downloading influenza-like illness data from my Github repo...\n"
          ]
        }
      ]
    },
    {
      "cell_type": "markdown",
      "source": [
        "## Create Datasets and DataLoaders"
      ],
      "metadata": {
        "id": "ZxyQudfCvdCq"
      }
    },
    {
      "cell_type": "code",
      "source": [
        "import os\n",
        "import pandas as pd\n",
        "from sklearn.preprocessing import StandardScaler\n",
        "from torch.utils.data import DataLoader\n",
        "\n",
        "def create_dataloaders(data_path:str, file_name:str, seq_len:int, pred_len:int, \n",
        "                       batch_size:int=1, scale=False,features:str=\"S\",\n",
        "                       target:str=\"OT\"):\n",
        "  \n",
        "  scaler = StandardScaler()\n",
        "  df_raw = pd.read_csv(os.path.join(data_path,file_name))\n",
        "  \n",
        "  cols = list(df_raw.columns)\n",
        "  cols.remove(target)\n",
        "  cols.remove(\"date\")\n",
        "  df_raw = df_raw[[\"date\"] + cols + [target]]\n",
        "\n",
        "  num_train = int(len(df_raw) * 0.7)\n",
        "  num_test = int(len(df_raw) * 0.2)\n",
        "  num_vali = len(df_raw) - num_train - num_test\n",
        "\n",
        "  border1s = [0, num_train - seq_len, len(df_raw) - num_vali - seq_len]\n",
        "  border2s = [num_train, num_train + num_test, len(df_raw)]\n",
        "\n",
        "  if features == \"M\" or features == \"MS\":\n",
        "    cols_data = df_raw.columns[1:]\n",
        "    df_data = df_raw[cols_data]\n",
        "  elif features == \"S\":\n",
        "    df_data = df_raw[[target]]\n",
        "\n",
        "  if scale:\n",
        "    train_data = df_data[border1s[0]:border2s[0]]\n",
        "    scaler.fit(train_data.values)\n",
        "    data = scaler.transform(df_data.values)\n",
        "  else:\n",
        "    data = df_data.values\n",
        "\n",
        "  train_data = data[border1s[0]:border2s[0]]\n",
        "  test_data = data[border1s[1]:border2s[1]]\n",
        "  vali_data = data[border1s[2]:border2s[2]]\n",
        "\n",
        "  train_dataloader = DataLoader(\n",
        "      train_data,\n",
        "      batch_size=batch_size,\n",
        "      shuffle=True)\n",
        "  test_dataloader = DataLoader(\n",
        "      test_data,\n",
        "      batch_size=batch_size,\n",
        "      shuffle=False)\n",
        "  vali_dataloader = DataLoader(\n",
        "      vali_data,\n",
        "      batch_size=batch_size,\n",
        "      shuffle=False)\n",
        "\n",
        "  return train_dataloader, test_dataloader, vali_dataloader"
      ],
      "metadata": {
        "id": "NZxkLb0MYXMh"
      },
      "execution_count": 2,
      "outputs": []
    },
    {
      "cell_type": "markdown",
      "source": [
        "## Model settings"
      ],
      "metadata": {
        "id": "bRnZHGkv0OjD"
      }
    },
    {
      "cell_type": "code",
      "source": [
        "# Setup path to data folder and file name\n",
        "data_path = Path(\"data/\")\n",
        "file_name = \"national_illness.csv\"\n",
        "\n",
        "# Sequence length (look-back window)\n",
        "seq_len = 104\n",
        "\n",
        "# Prediciton length (forecast horizon)\n",
        "pred_len = 24\n",
        "\n",
        "# Batch size\n",
        "batch_size = 16\n",
        "\n",
        "# Features of model: M  -> multivariate predict multivariate\n",
        "#                    S  -> univariate predict univariate\n",
        "#                    MS -> multivariate predict univariate\n",
        "features = \"M\"\n",
        "\n",
        "# Various parameters and hyperparameters\n",
        "d_model = 16\n",
        "patch_len = 24\n",
        "stride = 2\n",
        "n_heads = 4\n",
        "enc_in = 7\n",
        "e_layers = 3\n",
        "d_ff = 128\n",
        "dropout = 0.3\n",
        "fc_dropout = 0.3\n",
        "head_dropout = 0\n",
        "learning_rate = 0.0025\n",
        "padding_patch=\"end\""
      ],
      "metadata": {
        "id": "dPnqG489Jfm3"
      },
      "execution_count": 3,
      "outputs": []
    },
    {
      "cell_type": "markdown",
      "source": [
        "## PatchTST architecture\n",
        "\n",
        "### Instance normalization\n",
        "\n",
        "This technique helps mitigating the distribution shift effect between the training and testing data."
      ],
      "metadata": {
        "id": "BBEgrUA_M9HA"
      }
    },
    {
      "cell_type": "code",
      "source": [
        "import torch\n",
        "import torch.nn as nn\n",
        "\n",
        "class InstanceNorm(nn.Module):\n",
        "  def __init__(self, num_features:int, eps=1e-5,  affine=True, \n",
        "               subtract_last=False):    \n",
        "    \"\"\"\n",
        "    :param num_features: the number of features or channels\n",
        "    :param eps: a value added for numerical stability\n",
        "    :param affine: if True, InstanceNorm has learnable affine parameters\n",
        "    \"\"\"    \n",
        "    super(InstanceNorm, self).__init__()\n",
        "    self.num_features = num_features\n",
        "    self.eps = eps\n",
        "    self.affine = affine\n",
        "    self.subtract_last = subtract_last\n",
        "    if self.affine:\n",
        "      self._init_params()\n",
        "\n",
        "  def forward(self, x, mode:str):\n",
        "    if mode == \"norm\":\n",
        "      self._get_statistics(x)\n",
        "      x = self._normalize(x)\n",
        "    elif mode == \"denorm\":\n",
        "      x = self._denormalize(x)\n",
        "    else: raise NotImplementedError\n",
        "    return x\n",
        "\n",
        "  def _init_params(self):\n",
        "    # initialize InstanceNorm params: (C,)\n",
        "    self.affine_weight = nn.Parameter(torch.ones(self.num_features))\n",
        "    self.affine_bias = nn.Parameter(torch.zeros(self.num_features))\n",
        "\n",
        "  def _get_statistics(self, x):\n",
        "    dim2reduce = tuple(range(1, x.ndim-1))\n",
        "    if self.subtract_last:\n",
        "      self.last = x[:,-1,:].unsqueeze(1)\n",
        "    else:\n",
        "      self.mean = torch.mean(x, dim=dim2reduce, keepdim=True).detach()\n",
        "      self.stdev = torch.sqrt(torch.var(x, dim=dim2reduce, keepdim=True, unbiased=False) + self.eps).detach()\n",
        "\n",
        "  def _normalize(self, x):\n",
        "    if self.subtract_last:\n",
        "      x = x - self.last\n",
        "    else:\n",
        "      x = x - self.mean\n",
        "      x = x / self.stdev\n",
        "    if self.affine:\n",
        "      x = x * self.affine_weight\n",
        "      x = x + self.affine_bias\n",
        "    return x\n",
        "\n",
        "  def _denormalize(self, x):\n",
        "    if self.affine:\n",
        "      x = x - self.affine_bias\n",
        "      x = x / (self.affine_weight + self.eps*self.eps)\n",
        "      x = x * self.stdev\n",
        "    if self.subtract_last:\n",
        "      x = x + self.last\n",
        "    else:\n",
        "      x = x + self.mean\n",
        "    return x"
      ],
      "metadata": {
        "id": "TsvSnKiQNUpN"
      },
      "execution_count": 4,
      "outputs": []
    },
    {
      "cell_type": "code",
      "source": [
        "random_data = torch.randn(10,7)\n",
        "instnorm = InstanceNorm(num_features=7)\n",
        "instnorm(random_data,\"norm\")"
      ],
      "metadata": {
        "id": "wGU0UJR4TttY"
      },
      "execution_count": null,
      "outputs": []
    },
    {
      "cell_type": "markdown",
      "source": [
        "## Patching and Padding\n",
        "\n",
        "Pads the input tensor using replication of the input boundary.\n",
        "\n"
      ],
      "metadata": {
        "id": "AW4NJxzOzvEz"
      }
    },
    {
      "cell_type": "code",
      "source": [
        "from numpy.lib.arraypad import pad\n",
        "import torch\n",
        "import torch.nn as nn\n",
        "\n",
        "patch_num = int((seq_len-patch_len)/stride+1)\n",
        "if padding_patch == \"end\":\n",
        "  padding_patch_layer = nn.ReplicationPad1d((0, stride))\n",
        "  patch_num += 1"
      ],
      "metadata": {
        "id": "MU_-nBMAzzzQ"
      },
      "execution_count": 5,
      "outputs": []
    },
    {
      "cell_type": "markdown",
      "source": [
        "### Input encoding (projection)\n",
        "\n",
        "Implemeting equation 1: Projection of feature vectors onto a d-dim vector space."
      ],
      "metadata": {
        "id": "ZfJXKRke1-oT"
      }
    },
    {
      "cell_type": "code",
      "source": [
        "W_P = nn.Linear(patch_len, d_model)"
      ],
      "metadata": {
        "id": "Ytk6rxrX2ETs"
      },
      "execution_count": 6,
      "outputs": []
    },
    {
      "cell_type": "markdown",
      "source": [
        "### Positional encoding (position embedding)"
      ],
      "metadata": {
        "id": "w_SnLQ523NOy"
      }
    },
    {
      "cell_type": "code",
      "source": [
        "import torch\n",
        "import torch.nn as nn\n",
        "import math\n",
        "from typing import Callable, Optional\n",
        "from torch import Tensor\n",
        "import torch.nn.functional as F\n",
        "import numpy as np\n",
        "\n",
        "def Coord2dPosEncoding(patch_num, d_model, exponential=False, normalize=True, \n",
        "                       eps=1e-3, verbose=False):\n",
        "  x = .5 if exponential else 1\n",
        "  i = 0\n",
        "  for i in range(100):\n",
        "    cpe = 2 * (torch.linspace(0, 1, patch_num).reshape(-1, 1) ** x) * (torch.linspace(0, 1, d_model).reshape(1, -1) ** x) - 1\n",
        "    pv(f\"{i:4.0f}  {x:5.3f}  {cpe.mean():+6.3f}\", verbose)\n",
        "    if abs(cpe.mean()) <= eps: break\n",
        "    elif cpe.mean() > eps: x += .001\n",
        "    else: x -= .001\n",
        "    i += 1\n",
        "  if normalize:\n",
        "    cpe = cpe - cpe.mean()\n",
        "    cpe = cpe / (cpe.std() * 10)\n",
        "  return cpe\n",
        "\n",
        "def Coord1dPosEncoding(patch_num, exponential=False, normalize=True):\n",
        "  cpe = (2 * (torch.linspace(0, 1, patch_num).reshape(-1, 1)**(.5 if exponential else 1)) - 1)\n",
        "  if normalize:\n",
        "    cpe = cpe - cpe.mean()\n",
        "    cpe = cpe / (cpe.std() * 10)\n",
        "  return cpe\n",
        "\n",
        "def PositionalEncoding(pe, learn_pe, patch_num, d_model):\n",
        "    if pe == None:\n",
        "      W_pos = torch.empty((patch_num, d_model)) # pe = None and learn_pe = False can be used to measure impact of pe\n",
        "      nn.init.uniform_(W_pos, -0.02, 0.02)\n",
        "      learn_pe = False\n",
        "    elif pe == 'zero':\n",
        "        W_pos = torch.empty((patch_num, 1))\n",
        "        nn.init.uniform_(W_pos, -0.02, 0.02)\n",
        "    elif pe == 'zeros':\n",
        "        W_pos = torch.empty((patch_num, d_model))\n",
        "        nn.init.uniform_(W_pos, -0.02, 0.02)\n",
        "    elif pe == 'normal' or pe == 'gauss':\n",
        "        W_pos = torch.zeros((patch_num, 1))\n",
        "        torch.nn.init.normal_(W_pos, mean=0.0, std=0.1)\n",
        "    elif pe == 'uniform':\n",
        "        W_pos = torch.zeros((patch_num, 1))\n",
        "        nn.init.uniform_(W_pos, a=0.0, b=0.1)\n",
        "    elif pe == 'lin1d': W_pos = Coord1dPosEncoding(patch_num, exponential=False, normalize=True)\n",
        "    elif pe == 'exp1d': W_pos = Coord1dPosEncoding(patch_num, exponential=True, normalize=True)\n",
        "    elif pe == 'lin2d': W_pos = Coord2dPosEncoding(patch_num, d_model, exponential=False, normalize=True)\n",
        "    elif pe == 'exp2d': W_pos = Coord2dPosEncoding(patch_num, d_model, exponential=True, normalize=True)\n",
        "    elif pe == 'sincos': W_pos = PositionalEncoding(patch_num, d_model, normalize=True)\n",
        "    else: raise ValueError(f\"{pe} is not a valid pe (positional encoder. Available types: 'gauss'=='normal', \\\n",
        "        'zeros', 'zero', uniform', 'lin1d', 'exp1d', 'lin2d', 'exp2d', 'sincos', None.)\")\n",
        "    return nn.Parameter(W_pos, requires_grad=learn_pe)"
      ],
      "metadata": {
        "id": "a1QsS33J3r-h"
      },
      "execution_count": 15,
      "outputs": []
    },
    {
      "cell_type": "code",
      "source": [
        "test = PositionalEncoding(patch_num=patch_num,\n",
        "                         d_model=d_model)\n",
        "test"
      ],
      "metadata": {
        "colab": {
          "base_uri": "https://localhost:8080/"
        },
        "id": "zIeiPMNh4tRZ",
        "outputId": "4071d3cb-f092-40ed-f5bc-d1383ea44b44"
      },
      "execution_count": 13,
      "outputs": [
        {
          "output_type": "execute_result",
          "data": {
            "text/plain": [
              "tensor([[-0.0602,  0.1048, -0.0602,  0.1048, -0.0602,  0.1048, -0.0602,  0.1048,\n",
              "         -0.0602,  0.1048, -0.0602,  0.1048, -0.0602,  0.1048, -0.0602,  0.1048],\n",
              "        [ 0.0786,  0.0289, -0.0089,  0.0966, -0.0437,  0.1040, -0.0550,  0.1047,\n",
              "         -0.0586,  0.1048, -0.0597,  0.1048, -0.0600,  0.1048, -0.0602,  0.1048],\n",
              "        [ 0.0898, -0.1289,  0.0373,  0.0729, -0.0274,  0.1015, -0.0498,  0.1044,\n",
              "         -0.0569,  0.1047, -0.0592,  0.1048, -0.0599,  0.1048, -0.0601,  0.1048],\n",
              "        [-0.0369, -0.2235,  0.0739,  0.0359, -0.0114,  0.0974, -0.0446,  0.1040,\n",
              "         -0.0553,  0.1047, -0.0586,  0.1048, -0.0597,  0.1048, -0.0600,  0.1048],\n",
              "        [-0.1851, -0.1680,  0.0971, -0.0105,  0.0040,  0.0918, -0.0394,  0.1035,\n",
              "         -0.0536,  0.1046, -0.0581,  0.1048, -0.0595,  0.1048, -0.0600,  0.1048],\n",
              "        [-0.2184, -0.0134,  0.1048, -0.0619,  0.0189,  0.0846, -0.0342,  0.1027,\n",
              "         -0.0520,  0.1046, -0.0576,  0.1048, -0.0594,  0.1048, -0.0599,  0.1048],\n",
              "        [-0.1063,  0.0982,  0.0961, -0.1131,  0.0330,  0.0760, -0.0291,  0.1018,\n",
              "         -0.0503,  0.1045, -0.0571,  0.1047, -0.0592,  0.1048, -0.0599,  0.1048],\n",
              "        [ 0.0482,  0.0642,  0.0719, -0.1591,  0.0461,  0.0660, -0.0240,  0.1008,\n",
              "         -0.0487,  0.1044, -0.0566,  0.1047, -0.0590,  0.1048, -0.0598,  0.1048],\n",
              "        [ 0.1030, -0.0842,  0.0345, -0.1953,  0.0581,  0.0547, -0.0189,  0.0995,\n",
              "         -0.0470,  0.1043, -0.0560,  0.1047, -0.0589,  0.1048, -0.0598,  0.1048],\n",
              "        [ 0.0078, -0.2105, -0.0122, -0.2180,  0.0690,  0.0424, -0.0139,  0.0981,\n",
              "         -0.0454,  0.1041, -0.0555,  0.1047, -0.0587,  0.1048, -0.0597,  0.1048],\n",
              "        [-0.1500, -0.1986, -0.0636, -0.2252,  0.0786,  0.0289, -0.0089,  0.0966,\n",
              "         -0.0437,  0.1040, -0.0550,  0.1047, -0.0586,  0.1048, -0.0597,  0.1048],\n",
              "        [-0.2252, -0.0595, -0.1147, -0.2159,  0.0868,  0.0146, -0.0040,  0.0949,\n",
              "         -0.0421,  0.1038, -0.0545,  0.1047, -0.0584,  0.1048, -0.0596,  0.1048],\n",
              "        [-0.1487,  0.0790, -0.1605, -0.1912,  0.0936, -0.0004,  0.0009,  0.0930,\n",
              "         -0.0405,  0.1036, -0.0539,  0.1047, -0.0582,  0.1048, -0.0596,  0.1048],\n",
              "        [ 0.0091,  0.0895, -0.1962, -0.1536,  0.0988, -0.0161,  0.0057,  0.0910,\n",
              "         -0.0388,  0.1034, -0.0534,  0.1046, -0.0581,  0.1048, -0.0595,  0.1048],\n",
              "        [ 0.1032, -0.0376, -0.2185, -0.1066,  0.1024, -0.0322,  0.0105,  0.0889,\n",
              "         -0.0372,  0.1032, -0.0529,  0.1046, -0.0579,  0.1048, -0.0595,  0.1048],\n",
              "        [ 0.0471, -0.1855, -0.2251, -0.0551,  0.1044, -0.0485,  0.0152,  0.0866,\n",
              "         -0.0355,  0.1029, -0.0524,  0.1046, -0.0577,  0.1048, -0.0594,  0.1048],\n",
              "        [-0.1077, -0.2182, -0.2153, -0.0041,  0.1047, -0.0650,  0.0198,  0.0841,\n",
              "         -0.0339,  0.1027, -0.0519,  0.1046, -0.0576,  0.1048, -0.0594,  0.1048],\n",
              "        [-0.2188, -0.1056, -0.1902,  0.0414,  0.1034, -0.0815,  0.0243,  0.0815,\n",
              "         -0.0323,  0.1024, -0.0513,  0.1045, -0.0574,  0.1048, -0.0593,  0.1048],\n",
              "        [-0.1841,  0.0487, -0.1521,  0.0768,  0.1005, -0.0977,  0.0287,  0.0788,\n",
              "         -0.0307,  0.1021, -0.0508,  0.1045, -0.0572,  0.1048, -0.0593,  0.1048],\n",
              "        [-0.0355,  0.1029, -0.1050,  0.0986,  0.0959, -0.1135,  0.0331,  0.0759,\n",
              "         -0.0290,  0.1018, -0.0503,  0.1045, -0.0571,  0.1047, -0.0592,  0.1048],\n",
              "        [ 0.0904,  0.0071, -0.0534,  0.1046,  0.0898, -0.1289,  0.0373,  0.0729,\n",
              "         -0.0274,  0.1015, -0.0498,  0.1044, -0.0569,  0.1047, -0.0592,  0.1048],\n",
              "        [ 0.0778, -0.1506, -0.0025,  0.0943,  0.0822, -0.1435,  0.0415,  0.0697,\n",
              "         -0.0258,  0.1012, -0.0493,  0.1044, -0.0567,  0.1047, -0.0591,  0.1048],\n",
              "        [-0.0617, -0.2252,  0.0427,  0.0687,  0.0732, -0.1573,  0.0455,  0.0664,\n",
              "         -0.0242,  0.1008, -0.0487,  0.1044, -0.0566,  0.1047, -0.0591,  0.1048],\n",
              "        [-0.1998, -0.1481,  0.0777,  0.0303,  0.0628, -0.1701,  0.0495,  0.0630,\n",
              "         -0.0226,  0.1004, -0.0482,  0.1043, -0.0564,  0.1047, -0.0590,  0.1048],\n",
              "        [-0.2096,  0.0098,  0.0990, -0.0171,  0.0512, -0.1819,  0.0533,  0.0595,\n",
              "         -0.0210,  0.1000, -0.0477,  0.1043, -0.0562,  0.1047, -0.0590,  0.1048],\n",
              "        [-0.0820,  0.1033,  0.1046, -0.0687,  0.0385, -0.1924,  0.0571,  0.0559,\n",
              "         -0.0194,  0.0996, -0.0472,  0.1043, -0.0561,  0.1047, -0.0589,  0.1048],\n",
              "        [ 0.0656,  0.0465,  0.0937, -0.1195,  0.0248, -0.2016,  0.0607,  0.0521,\n",
              "         -0.0178,  0.0992, -0.0467,  0.1042, -0.0559,  0.1047, -0.0588,  0.1048],\n",
              "        [ 0.0976, -0.1084,  0.0676, -0.1645,  0.0103, -0.2094,  0.0642,  0.0482,\n",
              "         -0.0162,  0.0988, -0.0461,  0.1042, -0.0558,  0.1047, -0.0588,  0.1048],\n",
              "        [-0.0155, -0.2190,  0.0289, -0.1991, -0.0049, -0.2157,  0.0675,  0.0442,\n",
              "         -0.0146,  0.0984, -0.0456,  0.1041, -0.0556,  0.1047, -0.0587,  0.1048],\n",
              "        [-0.1697, -0.1836, -0.0187, -0.2199, -0.0207, -0.2204,  0.0708,  0.0401,\n",
              "         -0.0130,  0.0979, -0.0451,  0.1041, -0.0554,  0.1047, -0.0587,  0.1048],\n",
              "        [-0.2232, -0.0348, -0.0704, -0.2249, -0.0369, -0.2235,  0.0739,  0.0359,\n",
              "         -0.0114,  0.0974, -0.0446,  0.1040, -0.0553,  0.1047, -0.0586,  0.1048],\n",
              "        [-0.1269,  0.0907, -0.1211, -0.2135, -0.0533, -0.2250,  0.0768,  0.0317,\n",
              "         -0.0099,  0.0969, -0.0441,  0.1040, -0.0551,  0.1047, -0.0586,  0.1048],\n",
              "        [ 0.0308,  0.0774, -0.1658, -0.1870, -0.0698, -0.2249,  0.0797,  0.0273,\n",
              "         -0.0083,  0.0964, -0.0435,  0.1039, -0.0549,  0.1047, -0.0585,  0.1048],\n",
              "        [ 0.1048, -0.0624, -0.2000, -0.1478, -0.0862, -0.2231,  0.0824,  0.0228,\n",
              "         -0.0067,  0.0959, -0.0430,  0.1039, -0.0548,  0.1047, -0.0585,  0.1048],\n",
              "        [ 0.0271, -0.2002, -0.2203, -0.1000, -0.1024, -0.2197,  0.0849,  0.0183,\n",
              "         -0.0052,  0.0953, -0.0425,  0.1038, -0.0546,  0.1047, -0.0584,  0.1048],\n",
              "        [-0.1308, -0.2093, -0.2248, -0.0483, -0.1181, -0.2147,  0.0873,  0.0136,\n",
              "         -0.0036,  0.0948, -0.0420,  0.1038, -0.0544,  0.1047, -0.0584,  0.1048],\n",
              "        [-0.2238, -0.0813, -0.2129,  0.0023, -0.1332, -0.2082,  0.0896,  0.0089,\n",
              "         -0.0021,  0.0942, -0.0415,  0.1037, -0.0543,  0.1047, -0.0583,  0.1048],\n",
              "        [-0.1664,  0.0661, -0.1859,  0.0467, -0.1476, -0.2001,  0.0917,  0.0042,\n",
              "         -0.0005,  0.0936, -0.0409,  0.1037, -0.0541,  0.1047, -0.0583,  0.1048],\n",
              "        [-0.0113,  0.0974, -0.1464,  0.0805, -0.1611, -0.1907,  0.0937, -0.0007,\n",
              "          0.0010,  0.0930, -0.0404,  0.1036, -0.0539,  0.1047, -0.0582,  0.1048],\n",
              "        [ 0.0988, -0.0162, -0.0984,  0.1003, -0.1737, -0.1800,  0.0955, -0.0056,\n",
              "          0.0025,  0.0924, -0.0399,  0.1035, -0.0538,  0.1047, -0.0582,  0.1048],\n",
              "        [ 0.0627, -0.1702, -0.0466,  0.1042, -0.1851, -0.1680,  0.0971, -0.0105,\n",
              "          0.0040,  0.0918, -0.0394,  0.1035, -0.0536,  0.1046, -0.0581,  0.1048],\n",
              "        [-0.0864, -0.2231,  0.0039,  0.0918, -0.1952, -0.1550,  0.0986, -0.0155,\n",
              "          0.0056,  0.0911, -0.0389,  0.1034, -0.0534,  0.1046, -0.0581,  0.1048]])"
            ]
          },
          "metadata": {},
          "execution_count": 13
        }
      ]
    },
    {
      "cell_type": "markdown",
      "source": [
        "### Transformer encoder (channel independent)"
      ],
      "metadata": {
        "id": "dRxRzoVH5tuS"
      }
    },
    {
      "cell_type": "code",
      "source": [
        "from typing import Callable, Optional\n",
        "import torch\n",
        "from torch import nn\n",
        "from torch import Tensor\n",
        "import torch.nn.functional as F\n",
        "import numpy as np\n",
        "\n",
        "class TransformerEncoderIndependent(nn.Module):\n",
        "  def __init__(self, c_in, patch_num, patch_len, max_seq_len=1024, n_layers=3,\n",
        "               d_model=128, n_heads=16, d_k=None, d_v=None, d_ff=256,\n",
        "               norm=\"BatchNorm\", attn_dropout=0., dropout=0., act=\"gelu\",\n",
        "               store_attn=False, key_padding_mask=\"auto\", padding_var=None,\n",
        "               attn_mask=None, res_attention=True, pre_norm=False, pe=\"zeros\",\n",
        "               learn_pe=True, verbose=False, **kwargs):\n",
        "    super().__init__()\n",
        "\n",
        "    self.patch_num = patch_num\n",
        "    self.patch_len = patch_len\n",
        "\n",
        "    # Input encoding\n",
        "    self.W_P = nn.Linear(patch_len, d_model)\n",
        "\n",
        "    # Positional encoding\n",
        "    "
      ],
      "metadata": {
        "id": "BQQVI47x553F"
      },
      "execution_count": null,
      "outputs": []
    }
  ]
}