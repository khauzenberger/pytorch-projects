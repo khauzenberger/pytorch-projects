{
  "nbformat": 4,
  "nbformat_minor": 0,
  "metadata": {
    "colab": {
      "provenance": [],
      "authorship_tag": "ABX9TyPdbeMti3mgNKZfyomslr3X"
    },
    "kernelspec": {
      "name": "python3",
      "display_name": "Python 3"
    },
    "language_info": {
      "name": "python"
    }
  },
  "cells": [
    {
      "cell_type": "markdown",
      "source": [
        "# The paper\n",
        "\n",
        "In this project, I'm going to be replicating the paper \"A Time Series is Worth 64 Words: Long-term Forecasting with Transformers\" by Yuqi Nie, Nam H. Nguyen, Phanwadee Sinthong and Jayant Kalagnanam (see https://arxiv.org/abs/2211.14730)."
      ],
      "metadata": {
        "id": "9nlO-N-HO_nL"
      }
    },
    {
      "cell_type": "markdown",
      "source": [
        "## Key designs and model overview\n",
        "\n",
        "1. **Patching**: Segmentation of time series into subseries-level patches which are served as input tokens to Transformer.\n",
        "\n",
        "2. **Channel-independence**: Each channel contains a single univariate time series that shares the same embedding and Transformer weights across all the series.\n",
        "\n",
        "![picture](https://raw.githubusercontent.com/yuqinie98/PatchTST/main/pic/model.png)"
      ],
      "metadata": {
        "id": "4yl7wFdbnSbK"
      }
    },
    {
      "cell_type": "markdown",
      "source": [
        "# What I'm going to cover\n",
        "\n",
        "I'm going to replicate only the novel part of the paper using the influenza-like illness (ILI) dataset. This leaves out a lot of other things in the paper that show the performance of the novel approach compared to other approaches and compared to other datasets. "
      ],
      "metadata": {
        "id": "LihHlEcLw5Bn"
      }
    },
    {
      "cell_type": "markdown",
      "source": [
        "# Get data"
      ],
      "metadata": {
        "id": "VUoAGik7E4y3"
      }
    },
    {
      "cell_type": "code",
      "source": [
        "import requests\n",
        "from pathlib import Path\n",
        "\n",
        "# Setup path to data folder\n",
        "data_path = Path(\"data/\")\n",
        "\n",
        "# If the image folder doesn't exist, download it and prepare it... \n",
        "if data_path.is_dir():\n",
        "    print(f\"{data_path} directory exists.\")\n",
        "else:\n",
        "    print(f\"Did not find {data_path} directory, creating one...\")\n",
        "    data_path.mkdir(parents=True, exist_ok=True)\n",
        "    \n",
        "    # Download influenza-like illness data from my Github repo\n",
        "    with open(data_path / \"national_illness.csv\", \"wb\") as f:\n",
        "        request = requests.get(\"https://github.com/khauzenberger/pytorch-projects/raw/main/data/national_illness.csv\")      \n",
        "        print(\"Downloading influenza-like illness data from my Github repo...\")\n",
        "        f.write(request.content)"
      ],
      "metadata": {
        "colab": {
          "base_uri": "https://localhost:8080/"
        },
        "id": "9_9Ic_aqJOkn",
        "outputId": "9e69e8de-be5f-4d83-b221-f053c876632d"
      },
      "execution_count": null,
      "outputs": [
        {
          "output_type": "stream",
          "name": "stdout",
          "text": [
            "Did not find data directory, creating one...\n",
            "influenza-like illness data from my Github repo...\n"
          ]
        }
      ]
    }
  ]
}